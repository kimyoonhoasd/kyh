{
 "cells": [
  {
   "cell_type": "markdown",
   "id": "f2912bda-4b03-46dc-b7cf-74b35c711b0a",
   "metadata": {},
   "source": [
    "# 클래스는 1개 이상의 함수, 변수로 정의 됨, 상속 가능\n"
   ]
  },
  {
   "cell_type": "code",
   "execution_count": 2,
   "id": "1324074b-02b0-4d52-a164-b9df992d5763",
   "metadata": {},
   "outputs": [],
   "source": [
    "class cexam:\n",
    "    def fsam(self):\n",
    "        self.text = ' 맴버 함수(메소드)'\n",
    "        print(self.text)"
   ]
  },
  {
   "cell_type": "code",
   "execution_count": 21,
   "id": "7253867b-950f-4b9a-9151-49daedf7572c",
   "metadata": {},
   "outputs": [],
   "source": [
    "ca =cexam()"
   ]
  },
  {
   "cell_type": "code",
   "execution_count": 4,
   "id": "11c85a27-4bf6-4dc8-a99c-de478da1da0c",
   "metadata": {},
   "outputs": [
    {
     "name": "stdout",
     "output_type": "stream",
     "text": [
      "<__main__.cexam object at 0x000002F0C44BB7D0>\n"
     ]
    }
   ],
   "source": [
    "print(ca)"
   ]
  },
  {
   "cell_type": "code",
   "execution_count": 22,
   "id": "a575abe0-4ee9-48e0-90fb-4d70d5566130",
   "metadata": {},
   "outputs": [
    {
     "ename": "AttributeError",
     "evalue": "'cexam' object has no attribute 'fsam'",
     "output_type": "error",
     "traceback": [
      "\u001b[1;31m---------------------------------------------------------------------------\u001b[0m",
      "\u001b[1;31mAttributeError\u001b[0m                            Traceback (most recent call last)",
      "Cell \u001b[1;32mIn[22], line 1\u001b[0m\n\u001b[1;32m----> 1\u001b[0m ca\u001b[38;5;241m.\u001b[39mfsam()\n",
      "\u001b[1;31mAttributeError\u001b[0m: 'cexam' object has no attribute 'fsam'"
     ]
    }
   ],
   "source": [
    "ca.fsam()"
   ]
  },
  {
   "cell_type": "code",
   "execution_count": 17,
   "id": "c4af2f5e-d766-49bc-a5f4-5546ee0a49e9",
   "metadata": {},
   "outputs": [],
   "source": [
    "class cexam():\n",
    "    def fsama(self):\n",
    "        self.text = '맴버 함수(메소드)'\n",
    "        print(self.text)\n",
    "\n",
    "    def fsamb(self,pa):\n",
    "        self.x = pa\n",
    "        print('멤버 변수 x는 ',self.x)"
   ]
  },
  {
   "cell_type": "code",
   "execution_count": 18,
   "id": "56612538-098a-4a36-8759-f80daf329a4f",
   "metadata": {},
   "outputs": [],
   "source": [
    "ca = cexam() #객체 생성"
   ]
  },
  {
   "cell_type": "code",
   "execution_count": 19,
   "id": "a2959934-7d53-4424-a09e-d9fcc5958c7a",
   "metadata": {},
   "outputs": [
    {
     "name": "stdout",
     "output_type": "stream",
     "text": [
      "맴버 함수(메소드)\n"
     ]
    }
   ],
   "source": [
    "ca.fsama()"
   ]
  },
  {
   "cell_type": "code",
   "execution_count": 20,
   "id": "10d352a5-4446-42e3-ace0-cae9f5899826",
   "metadata": {},
   "outputs": [
    {
     "name": "stdout",
     "output_type": "stream",
     "text": [
      "멤버 변수 x는  10\n"
     ]
    }
   ],
   "source": [
    "ca.fsamb(10)"
   ]
  },
  {
   "cell_type": "markdown",
   "id": "a3eaa87a-f1f2-4098-87c3-c38cc4a7a2fb",
   "metadata": {},
   "source": [
    "## 초기 메소드 __INIT__"
   ]
  },
  {
   "cell_type": "code",
   "execution_count": 14,
   "id": "08b5517f-a509-4d3c-b1cd-c371b13a68d8",
   "metadata": {},
   "outputs": [],
   "source": [
    "class cexam():\n",
    "    def __init__(self, pa):\n",
    "        self.x = pa\n",
    "        print(\"멤버 변수 x는 \", self.x)\n",
    "    def fsam(self):\n",
    "        self.text = '멤버 함수(메소드)'\n",
    "        print(self.text)"
   ]
  },
  {
   "cell_type": "code",
   "execution_count": 15,
   "id": "6dd7d758-c4a8-4c12-a716-e78203ee04f8",
   "metadata": {},
   "outputs": [
    {
     "name": "stdout",
     "output_type": "stream",
     "text": [
      "멤버 변수 x는  10\n"
     ]
    }
   ],
   "source": [
    "ca = cexam(10)     # 객체 생성과 동시에 10 값을 __inint__(pa) 에 전달"
   ]
  },
  {
   "cell_type": "code",
   "execution_count": 16,
   "id": "7e5da800-ff04-4220-8362-1f2634a78f0f",
   "metadata": {},
   "outputs": [
    {
     "name": "stdout",
     "output_type": "stream",
     "text": [
      "멤버 함수(메소드)\n"
     ]
    }
   ],
   "source": [
    "ca.fsam()"
   ]
  },
  {
   "cell_type": "markdown",
   "id": "9f07b425-9203-4c08-8fa7-81776e90c3bc",
   "metadata": {},
   "source": [
    "## 파이썬에서 변수와 기억장소(메모리) 할당"
   ]
  },
  {
   "cell_type": "code",
   "execution_count": 1,
   "id": "bc969470-415b-4973-9d95-d3fda91d8a51",
   "metadata": {},
   "outputs": [],
   "source": [
    "class Calcurator:\n",
    "    def setinit(self):\n",
    "        self.result=0\n",
    "    def adder(self,num):\n",
    "        self.result = self.result + num\n",
    "        return self.result"
   ]
  },
  {
   "cell_type": "code",
   "execution_count": 3,
   "id": "839f91c6-5b0f-4ad5-b040-b4c2b04d16e6",
   "metadata": {},
   "outputs": [],
   "source": [
    "cal1 = Calcurator()"
   ]
  },
  {
   "cell_type": "code",
   "execution_count": 4,
   "id": "8b9bfa24-ab2a-4f70-9505-3dd95f9909e2",
   "metadata": {},
   "outputs": [],
   "source": [
    "cal1.setinit()"
   ]
  },
  {
   "cell_type": "code",
   "execution_count": 5,
   "id": "9993c9c9-34dd-4212-8adb-f1471de55289",
   "metadata": {},
   "outputs": [
    {
     "name": "stdout",
     "output_type": "stream",
     "text": [
      "0\n"
     ]
    }
   ],
   "source": [
    "print(cal1.result)"
   ]
  },
  {
   "cell_type": "code",
   "execution_count": 6,
   "id": "c3727c32-7f2b-414a-921d-13e60b0684e2",
   "metadata": {},
   "outputs": [],
   "source": [
    "cal2 = Calcurator()\n",
    "cal2.setinit()"
   ]
  },
  {
   "cell_type": "code",
   "execution_count": 7,
   "id": "859dff9c-dba9-43a9-9b86-b15c704ec2a2",
   "metadata": {},
   "outputs": [
    {
     "name": "stdout",
     "output_type": "stream",
     "text": [
      "0\n",
      "0\n"
     ]
    }
   ],
   "source": [
    "print(cal1.result)\n",
    "print(cal2.result)"
   ]
  },
  {
   "cell_type": "code",
   "execution_count": 9,
   "id": "84abe32a-a15a-4d5a-ba70-e1c50265fd22",
   "metadata": {},
   "outputs": [
    {
     "name": "stdout",
     "output_type": "stream",
     "text": [
      "3\n",
      "4\n"
     ]
    }
   ],
   "source": [
    "print(cal1.adder(3))\n",
    "print(cal2.adder(4))"
   ]
  },
  {
   "cell_type": "code",
   "execution_count": 10,
   "id": "321f261f-06a7-463e-96e3-b4096b314e6e",
   "metadata": {},
   "outputs": [
    {
     "name": "stdout",
     "output_type": "stream",
     "text": [
      "3\n",
      "4\n"
     ]
    }
   ],
   "source": [
    "print(cal1.result)\n",
    "print(cal2.result)"
   ]
  },
  {
   "cell_type": "code",
   "execution_count": 11,
   "id": "c92326c4-18cf-4a2f-9bd7-7820c3974210",
   "metadata": {},
   "outputs": [
    {
     "name": "stdout",
     "output_type": "stream",
     "text": [
      "6\n",
      "8\n"
     ]
    }
   ],
   "source": [
    "print(cal1.adder(3))\n",
    "print(cal2.adder(4))"
   ]
  },
  {
   "cell_type": "code",
   "execution_count": 12,
   "id": "46605cf8-f3d1-4967-b32c-15aff3c4c15f",
   "metadata": {},
   "outputs": [
    {
     "name": "stdout",
     "output_type": "stream",
     "text": [
      "6\n",
      "8\n"
     ]
    }
   ],
   "source": [
    "print(cal1.result)\n",
    "print(cal2.result)"
   ]
  },
  {
   "cell_type": "code",
   "execution_count": 14,
   "id": "cf9a9d03-84f6-4267-a6a9-f4115792a317",
   "metadata": {},
   "outputs": [
    {
     "name": "stdout",
     "output_type": "stream",
     "text": [
      "10\n",
      "20\n"
     ]
    }
   ],
   "source": [
    "cal3 = Calcurator()\n",
    "cal3.setinit()\n",
    "print(cal3.adder(10))\n",
    "print(cal3.adder(10))"
   ]
  },
  {
   "cell_type": "markdown",
   "id": "0a3ced94-314f-4126-bcf2-b6d0e691a743",
   "metadata": {},
   "source": [
    "## __init__ 메소드는 객체의 변수 값을 초기화"
   ]
  },
  {
   "cell_type": "code",
   "execution_count": 15,
   "id": "d84c6bbb-8c23-486c-8950-5fdf470fad09",
   "metadata": {},
   "outputs": [],
   "source": [
    "class Calcurator:\n",
    "    def set__init__(self):\n",
    "        self.result=0\n",
    "    def adder(self,num):\n",
    "        self.result = self.result + num\n",
    "        return self.result"
   ]
  },
  {
   "cell_type": "code",
   "execution_count": 29,
   "id": "eb64eb49-3125-4a9d-8010-46e671419467",
   "metadata": {},
   "outputs": [],
   "source": [
    "## 멤버 파라미터값으로 변수 초기화\n",
    "\n",
    "class Car:\n",
    "    def __init__(self,pnum,pspeed):\n",
    "        self.num = pnum\n",
    "        self.speed = pspeed"
   ]
  },
  {
   "cell_type": "code",
   "execution_count": 30,
   "id": "e2f3ec23-78bf-477f-90ba-6342d3db51e6",
   "metadata": {},
   "outputs": [],
   "source": [
    "new_car = Car(2025,90)"
   ]
  },
  {
   "cell_type": "code",
   "execution_count": 31,
   "id": "3d8d101d-cdaa-4a76-af81-6e75de73cff2",
   "metadata": {},
   "outputs": [
    {
     "name": "stdout",
     "output_type": "stream",
     "text": [
      "차량 번호 :  2025\n",
      "속도 :  90\n"
     ]
    }
   ],
   "source": [
    "print('차량 번호 : ',new_car.num)\n",
    "print('속도 : ',new_car.speed)"
   ]
  },
  {
   "cell_type": "code",
   "execution_count": 33,
   "id": "02ce1a20-b7a5-433d-b438-7bdf52337e11",
   "metadata": {},
   "outputs": [],
   "source": [
    "class Car:\n",
    "    def __init__(self,pnum,pspeed):\n",
    "        self.num = pnum\n",
    "        self.speed = pspeed\n",
    "    def fprint(self):\n",
    "        print('차량 번호 : ',new_car.num)\n",
    "        print('속도 : ',new_car.speed)"
   ]
  },
  {
   "cell_type": "code",
   "execution_count": 34,
   "id": "8667de6f-5e9a-4908-b790-78ff30677b31",
   "metadata": {},
   "outputs": [
    {
     "name": "stdout",
     "output_type": "stream",
     "text": [
      "차량 번호 :  2025\n",
      "속도 :  90\n"
     ]
    }
   ],
   "source": [
    "new_car = Car(2025, 90)\n",
    "new_car.fprint()"
   ]
  },
  {
   "cell_type": "code",
   "execution_count": 38,
   "id": "c481b0ff-585c-45d4-8766-cd03a21d79e0",
   "metadata": {},
   "outputs": [
    {
     "name": "stdout",
     "output_type": "stream",
     "text": [
      "10\n",
      "20\n",
      "30\n"
     ]
    }
   ],
   "source": [
    "class Cadd:\n",
    "    def fadd(self, a, b):\n",
    "        self.x = a\n",
    "        self.y = b\n",
    "        self.sum = self.x + self.y\n",
    "\n",
    "obj = Cadd()\n",
    "obj.fadd(10,20)\n",
    "print(obj.x)\n",
    "print(obj.y)\n",
    "print(obj.sum)"
   ]
  },
  {
   "cell_type": "code",
   "execution_count": 44,
   "id": "61987aba-085c-4d74-807a-fb643753d676",
   "metadata": {},
   "outputs": [
    {
     "name": "stdout",
     "output_type": "stream",
     "text": [
      "30\n"
     ]
    }
   ],
   "source": [
    "class Cadd:\n",
    "    def fadd(self, a, b):\n",
    "        x = a\n",
    "        y = b\n",
    "        sum = x+y\n",
    "        return sum\n",
    "\n",
    "obj = Cadd()\n",
    "osum = obj.fadd(10,20)\n",
    "\n",
    "print(osum)\n"
   ]
  },
  {
   "cell_type": "code",
   "execution_count": 65,
   "id": "d29955eb-6eba-4c30-9f48-adf19b1f7137",
   "metadata": {},
   "outputs": [
    {
     "name": "stdout",
     "output_type": "stream",
     "text": [
      "30\n",
      "-10\n",
      "200\n",
      "0.5\n"
     ]
    }
   ],
   "source": [
    "class Ccalc:\n",
    "    def fadd(self,a,b):\n",
    "        self.a = a\n",
    "        self.b = b\n",
    "        return self.a + self.b\n",
    "    def fsub(self,a,b):\n",
    "        self.a = a\n",
    "        self.b = b\n",
    "        return self.a - self.b\n",
    "    def fmul(self,a,b):\n",
    "        self.a = a\n",
    "        self.b = b\n",
    "        return self.a * self.b\n",
    "    def fdiv(self,a,b):\n",
    "        self.a = a\n",
    "        self.b = b\n",
    "        return self.a / self.b\n",
    "\n",
    "cal1 = Ccalc()\n",
    "print(cal1.fadd(10,20))\n",
    "print(cal1.fsub(10,20))\n",
    "print(cal1.fmul(10,20))\n",
    "print(cal1.fdiv(10,20))"
   ]
  },
  {
   "cell_type": "code",
   "execution_count": 66,
   "id": "bd44dc80-87f0-439e-af6b-b1a9e58c76ae",
   "metadata": {},
   "outputs": [],
   "source": [
    "from fcal import Fcalc, Fcala"
   ]
  },
  {
   "cell_type": "code",
   "execution_count": 68,
   "id": "acf93bd2-ebcf-42d3-8613-86cd7fdaaece",
   "metadata": {},
   "outputs": [],
   "source": [
    "cal1 = Fcalc()"
   ]
  },
  {
   "cell_type": "code",
   "execution_count": 69,
   "id": "262f7cfe-1f01-44de-aa7d-f40c2837bf8d",
   "metadata": {},
   "outputs": [
    {
     "name": "stdout",
     "output_type": "stream",
     "text": [
      "30\n",
      "-10\n",
      "200\n",
      "0.5\n"
     ]
    }
   ],
   "source": [
    "print(cal1.fadd(10,20))\n",
    "print(cal1.fsub(10,20))\n",
    "print(cal1.fmul(10,20))\n",
    "print(cal1.fdiv(10,20))"
   ]
  },
  {
   "cell_type": "code",
   "execution_count": 70,
   "id": "115c89dd-ed57-432e-b6d2-144a4a00e96c",
   "metadata": {},
   "outputs": [],
   "source": [
    "cal2 = Fcala()"
   ]
  },
  {
   "cell_type": "code",
   "execution_count": 72,
   "id": "1f10f8db-32cb-4368-9fb5-5b0f11c619b0",
   "metadata": {},
   "outputs": [
    {
     "data": {
      "text/plain": [
       "100000000000000000000"
      ]
     },
     "execution_count": 72,
     "metadata": {},
     "output_type": "execute_result"
    }
   ],
   "source": [
    "cal2.fsqrt(10,20)"
   ]
  },
  {
   "cell_type": "code",
   "execution_count": null,
   "id": "2854d2d6-5f69-4baa-b2fc-c6509c344c4d",
   "metadata": {},
   "outputs": [],
   "source": []
  }
 ],
 "metadata": {
  "kernelspec": {
   "display_name": "Python 3 (ipykernel)",
   "language": "python",
   "name": "python3"
  },
  "language_info": {
   "codemirror_mode": {
    "name": "ipython",
    "version": 3
   },
   "file_extension": ".py",
   "mimetype": "text/x-python",
   "name": "python",
   "nbconvert_exporter": "python",
   "pygments_lexer": "ipython3",
   "version": "3.12.8"
  }
 },
 "nbformat": 4,
 "nbformat_minor": 5
}
