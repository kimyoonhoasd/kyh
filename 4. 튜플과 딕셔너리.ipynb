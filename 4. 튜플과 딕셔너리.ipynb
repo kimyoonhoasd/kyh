{
 "cells": [
  {
   "cell_type": "code",
   "execution_count": 8,
   "id": "2f8844ea-2e21-462c-a969-f5d0e4c4ceb2",
   "metadata": {},
   "outputs": [
    {
     "name": "stdout",
     "output_type": "stream",
     "text": [
      "('스쿼트', '런지', '레그컬')\n"
     ]
    }
   ],
   "source": [
    "# 튜플은 프로그램이 시작되면 내용을 수정할 수 없다\n",
    "# 중요 개인정보를 데이터 처리할 때 사용\n",
    "\n",
    "leg_day = ('스쿼트', '런지', '레그컬')\n",
    "print(leg_day)"
   ]
  },
  {
   "cell_type": "code",
   "execution_count": 4,
   "id": "1d67a68e-5515-4990-a7df-be47019e1bfc",
   "metadata": {},
   "outputs": [
    {
     "data": {
      "text/plain": [
       "'스쿼트'"
      ]
     },
     "execution_count": 4,
     "metadata": {},
     "output_type": "execute_result"
    }
   ],
   "source": [
    "leg_day[0]"
   ]
  },
  {
   "cell_type": "code",
   "execution_count": 5,
   "id": "4f384cdb-45c8-48db-9d8f-bc1ef356ded0",
   "metadata": {},
   "outputs": [
    {
     "ename": "TypeError",
     "evalue": "'tuple' object does not support item assignment",
     "output_type": "error",
     "traceback": [
      "\u001b[1;31m---------------------------------------------------------------------------\u001b[0m",
      "\u001b[1;31mTypeError\u001b[0m                                 Traceback (most recent call last)",
      "Cell \u001b[1;32mIn[5], line 1\u001b[0m\n\u001b[1;32m----> 1\u001b[0m leg_day[\u001b[38;5;241m0\u001b[39m] \u001b[38;5;241m=\u001b[39m \u001b[38;5;124m'\u001b[39m\u001b[38;5;124m벤치프레스\u001b[39m\u001b[38;5;124m'\u001b[39m\n",
      "\u001b[1;31mTypeError\u001b[0m: 'tuple' object does not support item assignment"
     ]
    }
   ],
   "source": [
    "leg_day[0] = '벤치프레스'  # 튜플은 수정이 불가"
   ]
  },
  {
   "cell_type": "code",
   "execution_count": 6,
   "id": "0dd04752-bcf9-480d-bf03-96766b78d99e",
   "metadata": {},
   "outputs": [
    {
     "ename": "AttributeError",
     "evalue": "'tuple' object has no attribute 'append'",
     "output_type": "error",
     "traceback": [
      "\u001b[1;31m---------------------------------------------------------------------------\u001b[0m",
      "\u001b[1;31mAttributeError\u001b[0m                            Traceback (most recent call last)",
      "Cell \u001b[1;32mIn[6], line 1\u001b[0m\n\u001b[1;32m----> 1\u001b[0m leg_day\u001b[38;5;241m.\u001b[39mappend(\u001b[38;5;124m'\u001b[39m\u001b[38;5;124m숄더프레스\u001b[39m\u001b[38;5;124m'\u001b[39m)\n",
      "\u001b[1;31mAttributeError\u001b[0m: 'tuple' object has no attribute 'append'"
     ]
    }
   ],
   "source": [
    "leg_day.append('숄더프레스') # 추가하는것도 불가"
   ]
  },
  {
   "cell_type": "code",
   "execution_count": 7,
   "id": "198297a2-dc00-48d0-9e34-c01e4b315926",
   "metadata": {},
   "outputs": [
    {
     "ename": "TypeError",
     "evalue": "'tuple' object doesn't support item deletion",
     "output_type": "error",
     "traceback": [
      "\u001b[1;31m---------------------------------------------------------------------------\u001b[0m",
      "\u001b[1;31mTypeError\u001b[0m                                 Traceback (most recent call last)",
      "Cell \u001b[1;32mIn[7], line 1\u001b[0m\n\u001b[1;32m----> 1\u001b[0m \u001b[38;5;28;01mdel\u001b[39;00m leg_day[\u001b[38;5;241m0\u001b[39m]\n",
      "\u001b[1;31mTypeError\u001b[0m: 'tuple' object doesn't support item deletion"
     ]
    }
   ],
   "source": [
    "del leg_day[0] # 제거하는것도 불가"
   ]
  },
  {
   "cell_type": "code",
   "execution_count": 9,
   "id": "a08e542c-626e-47e4-bb37-e368721b8894",
   "metadata": {},
   "outputs": [
    {
     "name": "stdout",
     "output_type": "stream",
     "text": [
      "{'삼성전자': 60000, 'SK하이닉스': 140000, '네이버': 350000}\n"
     ]
    }
   ],
   "source": [
    "# 딕셔너리 { key : value } \n",
    "\n",
    "stock_prices = { \n",
    "    '삼성전자' : 60000,\n",
    "    'SK하이닉스' : 140000,\n",
    "    '네이버' : 350000\n",
    "}\n",
    "\n",
    "print(stock_prices)"
   ]
  },
  {
   "cell_type": "code",
   "execution_count": 10,
   "id": "701eec37-d688-4420-9050-4e0ed1453c02",
   "metadata": {},
   "outputs": [
    {
     "data": {
      "text/plain": [
       "60000"
      ]
     },
     "execution_count": 10,
     "metadata": {},
     "output_type": "execute_result"
    }
   ],
   "source": [
    "stock_prices['삼성전자']"
   ]
  },
  {
   "cell_type": "code",
   "execution_count": 11,
   "id": "2bbf2e45-f5ab-4858-9dd4-b101dd75eb74",
   "metadata": {},
   "outputs": [
    {
     "ename": "KeyError",
     "evalue": "'카카오'",
     "output_type": "error",
     "traceback": [
      "\u001b[1;31m---------------------------------------------------------------------------\u001b[0m",
      "\u001b[1;31mKeyError\u001b[0m                                  Traceback (most recent call last)",
      "Cell \u001b[1;32mIn[11], line 1\u001b[0m\n\u001b[1;32m----> 1\u001b[0m stock_prices[\u001b[38;5;124m'\u001b[39m\u001b[38;5;124m카카오\u001b[39m\u001b[38;5;124m'\u001b[39m]\n",
      "\u001b[1;31mKeyError\u001b[0m: '카카오'"
     ]
    }
   ],
   "source": [
    "stock_prices['카카오']"
   ]
  },
  {
   "cell_type": "code",
   "execution_count": 16,
   "id": "2127b446-05a2-437a-b0a6-7a90fe4dfadc",
   "metadata": {},
   "outputs": [
    {
     "name": "stdout",
     "output_type": "stream",
     "text": [
      "삼성전자\n",
      "SK하이닉스\n",
      "네이버\n"
     ]
    }
   ],
   "source": [
    "for key in stock_prices.keys(): # 키 출력\n",
    "    print(key)"
   ]
  },
  {
   "cell_type": "code",
   "execution_count": 17,
   "id": "588d0e8b-62e9-4369-a390-9305f36fc157",
   "metadata": {},
   "outputs": [
    {
     "name": "stdout",
     "output_type": "stream",
     "text": [
      "60000\n",
      "140000\n",
      "350000\n"
     ]
    }
   ],
   "source": [
    "for value in stock_prices.values(): # 값 출력\n",
    "    print(value)"
   ]
  },
  {
   "cell_type": "code",
   "execution_count": 18,
   "id": "08c79c17-6d65-48c0-a0c6-43c46ccb180d",
   "metadata": {},
   "outputs": [
    {
     "name": "stdout",
     "output_type": "stream",
     "text": [
      "삼성전자 60000\n",
      "SK하이닉스 140000\n",
      "네이버 350000\n"
     ]
    }
   ],
   "source": [
    "for key, value in stock_prices.items(): # 키와 값 둘 다 출력\n",
    "    print(key, value)"
   ]
  },
  {
   "cell_type": "code",
   "execution_count": 25,
   "id": "812f9849-dfc5-4e36-af08-6cb75e010232",
   "metadata": {},
   "outputs": [
    {
     "name": "stdout",
     "output_type": "stream",
     "text": [
      " 삼성전자 평균 주가 61000\n",
      " SK하이닉스 평균 주가 157750\n",
      " 네이버 평균 주가 355000\n"
     ]
    }
   ],
   "source": [
    "# key 별 주가를 더해서 평균 주가 프린트 . sum(), lan()\n",
    "\n",
    "stock_prices = { \n",
    "    '삼성전자' : [60000,61000,62000],\n",
    "    'SK하이닉스' : [140000,141000,150000,200000],\n",
    "    '네이버' : [350000,355000,360000]\n",
    "}\n",
    "\n",
    "for key,value in stock_prices.items():\n",
    "    avg = sum(value)/len(value)\n",
    "    print(f' {key} 평균 주가 {int(avg)}')"
   ]
  },
  {
   "cell_type": "code",
   "execution_count": 52,
   "id": "335283a7-d4a9-4ab5-bc40-602f4f189ecc",
   "metadata": {},
   "outputs": [
    {
     "name": "stdout",
     "output_type": "stream",
     "text": [
      "삼성전자 - 최고가80000, 최저가61000\n",
      "SK하이닉스 - 최고가160000, 최저가141000\n",
      "네이버 - 최고가400000, 최저가305000\n"
     ]
    }
   ],
   "source": [
    "# 각 회사별로 주가의 최고가와 최저가를 구기기\n",
    "\n",
    "stock_prices = { \n",
    "    '삼성전자' : {'최고가': 80000, '최저가' :61000, '현재가' :62000},\n",
    "    'SK하이닉스' : {'최고가' :160000,'최저가' :141000,'현재가' :150000},\n",
    "    '네이버' : {'최고가' :400000,'최저가' :305000,'현재가' :360000}\n",
    "}\n",
    "\n",
    "\n",
    "for key,value in stock_prices.items():\n",
    "    print(f'{key} - 최고가{value[\"최고가\"]}, 최저가{value[\"최저가\"]}')\n"
   ]
  },
  {
   "cell_type": "code",
   "execution_count": 53,
   "id": "e5372ac3-d2ab-4ef4-ab4e-e55f8807ffd6",
   "metadata": {},
   "outputs": [
    {
     "name": "stdout",
     "output_type": "stream",
     "text": [
      "삼성전자 - 최고가 :80000, 최저가 : 61000\n",
      "SK하이닉스 - 최고가 :160000, 최저가 : 141000\n",
      "네이버 - 최고가 :400000, 최저가 : 305000\n"
     ]
    }
   ],
   "source": [
    "for key,value in stock_prices.items():\n",
    "    max_value = value[\"최고가\"]\n",
    "    min_value = value[\"최저가\"]\n",
    "    print(f'{key} - 최고가 :{max_value}, 최저가 : {min_value}')"
   ]
  },
  {
   "cell_type": "code",
   "execution_count": null,
   "id": "dd5936fb-432a-4c9e-9611-7cd2e5783bdc",
   "metadata": {},
   "outputs": [],
   "source": []
  }
 ],
 "metadata": {
  "kernelspec": {
   "display_name": "Python 3 (ipykernel)",
   "language": "python",
   "name": "python3"
  },
  "language_info": {
   "codemirror_mode": {
    "name": "ipython",
    "version": 3
   },
   "file_extension": ".py",
   "mimetype": "text/x-python",
   "name": "python",
   "nbconvert_exporter": "python",
   "pygments_lexer": "ipython3",
   "version": "3.12.8"
  }
 },
 "nbformat": 4,
 "nbformat_minor": 5
}
