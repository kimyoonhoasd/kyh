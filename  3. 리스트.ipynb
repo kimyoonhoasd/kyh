{
 "cells": [
  {
   "cell_type": "code",
   "execution_count": 18,
   "id": "af59ce2f-728d-4aff-b4be-c58971b42da5",
   "metadata": {},
   "outputs": [
    {
     "data": {
      "text/plain": [
       "'C:\\\\Users\\\\ITBANK NR 306_7'"
      ]
     },
     "execution_count": 18,
     "metadata": {},
     "output_type": "execute_result"
    }
   ],
   "source": [
    "# 프로그램의 위치 찾기\n",
    "\n",
    "import os\n",
    "os.getcwd()     # get Current Wokr Directory"
   ]
  },
  {
   "cell_type": "code",
   "execution_count": 1,
   "id": "46610053-c544-4d98-ad05-c3bdc021ce4b",
   "metadata": {},
   "outputs": [
    {
     "data": {
      "text/plain": [
       "['삼성전자', 'sk하이닉스', '네이버']"
      ]
     },
     "execution_count": 1,
     "metadata": {},
     "output_type": "execute_result"
    }
   ],
   "source": [
    "company_list = ['삼성전자', 'sk하이닉스', '네이버']\n",
    "company_list"
   ]
  },
  {
   "cell_type": "code",
   "execution_count": 2,
   "id": "8fa67e9a-dd65-41b1-8ee8-f6d5863cf6df",
   "metadata": {},
   "outputs": [
    {
     "name": "stdout",
     "output_type": "stream",
     "text": [
      "['삼성전자', 'sk하이닉스', '네이버']\n"
     ]
    }
   ],
   "source": [
    "print(company_list)"
   ]
  },
  {
   "cell_type": "code",
   "execution_count": 4,
   "id": "5d829247-bcc3-4b02-a0e4-9715ec3107b9",
   "metadata": {},
   "outputs": [
    {
     "data": {
      "text/plain": [
       "list"
      ]
     },
     "execution_count": 4,
     "metadata": {},
     "output_type": "execute_result"
    }
   ],
   "source": [
    "type(company_list)"
   ]
  },
  {
   "cell_type": "code",
   "execution_count": 10,
   "id": "46a51954-e35e-49d5-a5a0-cdd0be1d5302",
   "metadata": {},
   "outputs": [
    {
     "name": "stdout",
     "output_type": "stream",
     "text": [
      "삼성전자\n",
      "sk하이닉스\n",
      "네이버\n"
     ]
    }
   ],
   "source": [
    "print(company_list[0])\n",
    "print(company_list[1])\n",
    "print(company_list[-1])"
   ]
  },
  {
   "cell_type": "code",
   "execution_count": 12,
   "id": "35b7cdd6-ab63-4824-b087-f0fc4ac3a2bd",
   "metadata": {},
   "outputs": [
    {
     "name": "stdout",
     "output_type": "stream",
     "text": [
      "['애플', '구글', '테슬라']\n"
     ]
    }
   ],
   "source": [
    "company_list[0] = '애플'\n",
    "company_list[1] = '구글'\n",
    "company_list[2] = '테슬라'\n",
    "\n",
    "print(company_list)"
   ]
  },
  {
   "cell_type": "code",
   "execution_count": 15,
   "id": "0525c594-208e-4343-b671-6c0d5064a44b",
   "metadata": {},
   "outputs": [
    {
     "name": "stdout",
     "output_type": "stream",
     "text": [
      "['구글', '테슬라', '마이크소프트', '마이크소프트']\n"
     ]
    }
   ],
   "source": [
    "company_list.append('마이크소프트')  # 리스트 맨 뒤에 추가\n",
    "print(company_list)"
   ]
  },
  {
   "cell_type": "code",
   "execution_count": 16,
   "id": "37d756f9-e9cb-473a-ad78-8856c87d5124",
   "metadata": {},
   "outputs": [
    {
     "name": "stdout",
     "output_type": "stream",
     "text": [
      "['테슬라', '마이크소프트', '마이크소프트']\n"
     ]
    }
   ],
   "source": [
    "del company_list[0]  # 리스트의 0번째 요소를 삭제\n",
    "print(company_list)"
   ]
  },
  {
   "cell_type": "code",
   "execution_count": 19,
   "id": "1daeaafa-c772-4326-94dd-9e756526dd44",
   "metadata": {},
   "outputs": [
    {
     "data": {
      "text/plain": [
       "3"
      ]
     },
     "execution_count": 19,
     "metadata": {},
     "output_type": "execute_result"
    }
   ],
   "source": [
    "len(company_list)"
   ]
  },
  {
   "cell_type": "code",
   "execution_count": 20,
   "id": "4cf7e230-8261-428e-bbf9-222a4b163496",
   "metadata": {},
   "outputs": [
    {
     "name": "stdout",
     "output_type": "stream",
     "text": [
      "[1, 2, 3, 4, 5, 6, 7, 8, 9]\n"
     ]
    }
   ],
   "source": [
    "num_list = [1,2,3,4,5,6,7,8,9]\n",
    "print(num_list)"
   ]
  },
  {
   "cell_type": "code",
   "execution_count": 21,
   "id": "6f62c8ce-ec94-41c5-b628-93affa2a6275",
   "metadata": {},
   "outputs": [
    {
     "data": {
      "text/plain": [
       "1"
      ]
     },
     "execution_count": 21,
     "metadata": {},
     "output_type": "execute_result"
    }
   ],
   "source": [
    "num_list[0]"
   ]
  },
  {
   "cell_type": "code",
   "execution_count": 25,
   "id": "29fc6a43-d839-44c4-84c4-84284c8983df",
   "metadata": {},
   "outputs": [
    {
     "data": {
      "text/plain": [
       "[1, 2, 3, 4]"
      ]
     },
     "execution_count": 25,
     "metadata": {},
     "output_type": "execute_result"
    }
   ],
   "source": [
    "num_list[0:4]"
   ]
  },
  {
   "cell_type": "code",
   "execution_count": 24,
   "id": "d4b9e874-3262-43ed-ba92-be82b53d5382",
   "metadata": {},
   "outputs": [
    {
     "data": {
      "text/plain": [
       "[1, 2, 3, 4]"
      ]
     },
     "execution_count": 24,
     "metadata": {},
     "output_type": "execute_result"
    }
   ],
   "source": [
    "num_list[:4]"
   ]
  },
  {
   "cell_type": "code",
   "execution_count": 26,
   "id": "de8a3821-990d-4e9a-ae23-daf86a08e6fd",
   "metadata": {},
   "outputs": [
    {
     "data": {
      "text/plain": [
       "[3, 4, 5]"
      ]
     },
     "execution_count": 26,
     "metadata": {},
     "output_type": "execute_result"
    }
   ],
   "source": [
    "num_list[2:5]"
   ]
  },
  {
   "cell_type": "code",
   "execution_count": 27,
   "id": "1694d437-c00e-4d68-9443-c3b4f39680cb",
   "metadata": {},
   "outputs": [
    {
     "data": {
      "text/plain": [
       "[6, 7, 8, 9]"
      ]
     },
     "execution_count": 27,
     "metadata": {},
     "output_type": "execute_result"
    }
   ],
   "source": [
    "num_list[5:]"
   ]
  },
  {
   "cell_type": "code",
   "execution_count": 29,
   "id": "156ac790-958c-4106-aa09-b4cdd44b45bc",
   "metadata": {},
   "outputs": [
    {
     "data": {
      "text/plain": [
       "[1, 4, 7]"
      ]
     },
     "execution_count": 29,
     "metadata": {},
     "output_type": "execute_result"
    }
   ],
   "source": [
    "num_list[::3]    # 시작과 끝을 생략하면서 3씩 증가하면서 출력"
   ]
  },
  {
   "cell_type": "code",
   "execution_count": 32,
   "id": "b16f99eb-ae51-48cf-9445-c5ae8db00934",
   "metadata": {},
   "outputs": [
    {
     "name": "stdout",
     "output_type": "stream",
     "text": [
      "대검을(를) 확인했습니다.\n",
      "창닫기\n",
      "포션을(를) 확인했습니다.\n",
      "창닫기\n",
      "마법서을(를) 확인했습니다.\n",
      "창닫기\n"
     ]
    }
   ],
   "source": [
    "inventory = ['대검', '포션', '마법서']\n",
    "\n",
    "for item in inventory:\n",
    "    print(item + '을(를) 확인했습니다.')\n",
    "    print('창닫기')"
   ]
  },
  {
   "cell_type": "code",
   "execution_count": 38,
   "id": "1210d58b-7970-43cc-a139-8566866ef5b0",
   "metadata": {},
   "outputs": [],
   "source": [
    "game_map = [    # 리스트 안에 리스트\n",
    "    ['대검', '포션', None],\n",
    "    [None, '보물상자', '포션'],\n",
    "    ['몬스터', None, '열쇠']\n",
    "]"
   ]
  },
  {
   "cell_type": "code",
   "execution_count": 39,
   "id": "2d5f8a42-7680-42ca-aadd-b0b329d1076d",
   "metadata": {},
   "outputs": [
    {
     "name": "stdout",
     "output_type": "stream",
     "text": [
      "['대검', '포션', None]\n",
      "item  대검\n",
      "item  포션\n",
      "item  None\n",
      "[None, '보물상자', '포션']\n",
      "item  None\n",
      "item  보물상자\n",
      "item  포션\n",
      "['몬스터', None, '열쇠']\n",
      "item  몬스터\n",
      "item  None\n",
      "item  열쇠\n"
     ]
    }
   ],
   "source": [
    "for game in game_map:\n",
    "    print(game)\n",
    "    for item in game:\n",
    "        print('item ',item)"
   ]
  },
  {
   "cell_type": "code",
   "execution_count": 42,
   "id": "2e879ab3-3245-4eee-a5c5-da391af126f2",
   "metadata": {},
   "outputs": [
    {
     "data": {
      "text/plain": [
       "str"
      ]
     },
     "execution_count": 42,
     "metadata": {},
     "output_type": "execute_result"
    }
   ],
   "source": [
    "type(game_map[0][0])"
   ]
  },
  {
   "cell_type": "code",
   "execution_count": 45,
   "id": "01101036-a8e4-4d32-ac2d-3a605afdead3",
   "metadata": {},
   "outputs": [
    {
     "name": "stdout",
     "output_type": "stream",
     "text": [
      "포션\n"
     ]
    }
   ],
   "source": [
    "print(game_map[0][1])"
   ]
  },
  {
   "cell_type": "code",
   "execution_count": 47,
   "id": "ed054bbc-6d4b-4524-af16-ca3452e18fe9",
   "metadata": {},
   "outputs": [
    {
     "name": "stdout",
     "output_type": "stream",
     "text": [
      "최고 점수 :  200\n"
     ]
    }
   ],
   "source": [
    "# 리스트 안에 최고 높은 값\n",
    "scores = [120, 150, 180, 200, 170]\n",
    "max_score = 0\n",
    "for score in scores:\n",
    "    if score > max_score:\n",
    "        max_score = score\n",
    "\n",
    "print('최고 점수 : ', max_score)"
   ]
  },
  {
   "cell_type": "code",
   "execution_count": 66,
   "id": "6453040e-4e55-4675-98eb-8def85c623e4",
   "metadata": {},
   "outputs": [],
   "source": [
    "def user_max(scores, max_score=0):\n",
    "    for score in scores:\n",
    "        if score > max_score:\n",
    "            max_score = score\n",
    "\n",
    "    return max_score"
   ]
  },
  {
   "cell_type": "code",
   "execution_count": 67,
   "id": "fb4b7b7b-cde9-48ae-8b16-a3f4d660bc66",
   "metadata": {},
   "outputs": [
    {
     "data": {
      "text/plain": [
       "200"
      ]
     },
     "execution_count": 67,
     "metadata": {},
     "output_type": "execute_result"
    }
   ],
   "source": [
    "scores = [120, 150, 180, 200, 170]\n",
    "user_max(scores)"
   ]
  },
  {
   "cell_type": "code",
   "execution_count": 68,
   "id": "8c3b0233-32bb-4db1-bf82-cd802913c3e1",
   "metadata": {},
   "outputs": [
    {
     "data": {
      "text/plain": [
       "200"
      ]
     },
     "execution_count": 68,
     "metadata": {},
     "output_type": "execute_result"
    }
   ],
   "source": [
    "max(scores)"
   ]
  },
  {
   "cell_type": "code",
   "execution_count": 69,
   "id": "6e1f4770-e0fe-4fbb-9523-cc33a6465fa6",
   "metadata": {},
   "outputs": [
    {
     "data": {
      "text/plain": [
       "120"
      ]
     },
     "execution_count": 69,
     "metadata": {},
     "output_type": "execute_result"
    }
   ],
   "source": [
    "min(scores)"
   ]
  },
  {
   "cell_type": "code",
   "execution_count": 70,
   "id": "7f51dea7-3ec3-4950-8797-31e0e35bccfd",
   "metadata": {},
   "outputs": [
    {
     "ename": "TypeError",
     "evalue": "'int' object is not callable",
     "output_type": "error",
     "traceback": [
      "\u001b[1;31m---------------------------------------------------------------------------\u001b[0m",
      "\u001b[1;31mTypeError\u001b[0m                                 Traceback (most recent call last)",
      "Cell \u001b[1;32mIn[70], line 1\u001b[0m\n\u001b[1;32m----> 1\u001b[0m \u001b[38;5;28msum\u001b[39m(scores)\n",
      "\u001b[1;31mTypeError\u001b[0m: 'int' object is not callable"
     ]
    }
   ],
   "source": [
    "sum(scores)"
   ]
  },
  {
   "cell_type": "code",
   "execution_count": 59,
   "id": "2cb60dde-4c27-4d8d-886f-2c02163d9350",
   "metadata": {},
   "outputs": [
    {
     "name": "stdout",
     "output_type": "stream",
     "text": [
      "17\n"
     ]
    }
   ],
   "source": [
    "# 실습 문제 : 합계 구기기\n",
    "\n",
    "rooms = [\n",
    "    [3, 1, 2],\n",
    "    [2, 0, 1],\n",
    "    [1, 3, 4]\n",
    "]\n",
    "sum = 0\n",
    "\n",
    "for i in rooms:\n",
    "    for j in i:\n",
    "        sum +=j\n",
    "\n",
    "print(sum)\n",
    "    \n"
   ]
  },
  {
   "cell_type": "code",
   "execution_count": null,
   "id": "88bd6fbd-5dfa-4c4a-a151-f7a7e86a9134",
   "metadata": {},
   "outputs": [],
   "source": []
  }
 ],
 "metadata": {
  "kernelspec": {
   "display_name": "Python 3 (ipykernel)",
   "language": "python",
   "name": "python3"
  },
  "language_info": {
   "codemirror_mode": {
    "name": "ipython",
    "version": 3
   },
   "file_extension": ".py",
   "mimetype": "text/x-python",
   "name": "python",
   "nbconvert_exporter": "python",
   "pygments_lexer": "ipython3",
   "version": "3.12.8"
  }
 },
 "nbformat": 4,
 "nbformat_minor": 5
}
