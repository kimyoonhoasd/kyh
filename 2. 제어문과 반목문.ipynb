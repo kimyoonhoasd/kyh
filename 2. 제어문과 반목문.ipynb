{
 "cells": [
  {
   "cell_type": "markdown",
   "id": "cd3336ed-29da-439b-b32d-bf2615dd0f4d",
   "metadata": {},
   "source": [
    "# 1. 조건문 예제\n",
    "\n",
    "## 1.1 짝수와 홀수 판별하기"
   ]
  },
  {
   "cell_type": "code",
   "execution_count": 16,
   "id": "0ddb5d39-441e-42ae-bf0a-6b5acdb56107",
   "metadata": {},
   "outputs": [
    {
     "name": "stdin",
     "output_type": "stream",
     "text": [
      "정수를 입력하세요:  55\n"
     ]
    },
    {
     "name": "stdout",
     "output_type": "stream",
     "text": [
      "55은(는) 홀수입니다.\n"
     ]
    }
   ],
   "source": [
    "number = int(input(\"정수를 입력하세요: \"))\n",
    "\n",
    "if number % 2 == 0:\n",
    "    print(f\"{number}은(는) 짝수입니다.\")\n",
    "else:\n",
    "    print(f\"{number}은(는) 홀수입니다.\")"
   ]
  },
  {
   "cell_type": "markdown",
   "id": "0e747f32-fd4d-4af2-8c83-bb3910112cc0",
   "metadata": {},
   "source": [
    "## 1.2 성적에 따른 학점 출력"
   ]
  },
  {
   "cell_type": "code",
   "execution_count": 15,
   "id": "f9210cf0-36bd-435d-bf8e-1d1b174544c3",
   "metadata": {},
   "outputs": [
    {
     "name": "stdin",
     "output_type": "stream",
     "text": [
      "점수를 입력하세요 (0 ~ 100):  55\n"
     ]
    },
    {
     "name": "stdout",
     "output_type": "stream",
     "text": [
      "F학점입니다.\n"
     ]
    }
   ],
   "source": [
    "# 점수를 입력받아 학점을 출력\n",
    "score = int(input(\"점수를 입력하세요 (0 ~ 100): \"))\n",
    "\n",
    "if score >= 90:\n",
    "    print(\"A학점입니다.\")\n",
    "elif score >= 80:\n",
    "    print(\"B학점입니다.\")\n",
    "elif score >= 70:\n",
    "    print(\"C학점입니다.\")\n",
    "elif score >= 60:\n",
    "    print(\"D학점입니다.\")\n",
    "else:\n",
    "    print(\"F학점입니다.\")"
   ]
  },
  {
   "cell_type": "markdown",
   "id": "a725e62b-b580-443a-9f84-0156f498858b",
   "metadata": {},
   "source": [
    "## 1.3 로그인 시스템"
   ]
  },
  {
   "cell_type": "code",
   "execution_count": 4,
   "id": "4a7cf925-eac8-4d71-b7b2-9411d0dfd5f5",
   "metadata": {},
   "outputs": [
    {
     "name": "stdin",
     "output_type": "stream",
     "text": [
      "사용자 아이디를 입력하세요 amin\n",
      "사용자 비밀번호를 입력하세요 1234\n"
     ]
    },
    {
     "name": "stdout",
     "output_type": "stream",
     "text": [
      "로그인 성공!\n"
     ]
    }
   ],
   "source": [
    "# 간단한 로그인 시스템\n",
    "user_id = \"amin\"\n",
    "user_pw = \"1234\"\n",
    "\n",
    "input_id = input('사용자 아이디를 입력하세요')\n",
    "input_pw = input('사용자 비밀번호를 입력하세요')\n",
    "\n",
    "if user_id == input_id:\n",
    "    if user_pw == input_pw:\n",
    "        print(\"로그인 성공!\")\n",
    "    else:\n",
    "        print('비밀번호가 틀립니다')\n",
    "else:\n",
    "    print('등록된 사용자 아이디가 틀립니다')"
   ]
  },
  {
   "cell_type": "code",
   "execution_count": 7,
   "id": "d1f669a1-0f79-421c-a407-24f32b69286c",
   "metadata": {},
   "outputs": [
    {
     "name": "stdin",
     "output_type": "stream",
     "text": [
      "사용자 아이디를 입력하세요 admin\n",
      "사용자 비밀번호를 입력하세요 1234\n"
     ]
    },
    {
     "name": "stdout",
     "output_type": "stream",
     "text": [
      "로그인 성공!\n"
     ]
    }
   ],
   "source": [
    "# 간단한 로그인 시스템\n",
    "user_id = \"admin\"\n",
    "user_pw = \"1234\"\n",
    "\n",
    "input_id = input('사용자 아이디를 입력하세요')\n",
    "input_pw = input('사용자 비밀번호를 입력하세요')\n",
    "\n",
    "if user_id == input_id and user_pw == input_pw:\n",
    "        print(\"로그인 성공!\")\n",
    "else:\n",
    "    print('등록된 사용자 아이디 또는 비밀번호가 틀립니다')"
   ]
  },
  {
   "cell_type": "markdown",
   "id": "f93f41e0-eba7-4dd0-bee1-b876ef84ca3a",
   "metadata": {},
   "source": [
    "# 2. 반복문 예제"
   ]
  },
  {
   "cell_type": "markdown",
   "id": "55414e98-c6e9-421d-9fee-f2c9d3f735f6",
   "metadata": {},
   "source": [
    "## 2.1 1부터 10까지 숫자 출력 (for문)"
   ]
  },
  {
   "cell_type": "code",
   "execution_count": 12,
   "id": "53514595-2f09-4a74-9fc5-41ca100b4f80",
   "metadata": {},
   "outputs": [
    {
     "name": "stdout",
     "output_type": "stream",
     "text": [
      "1 2 3 4 5 6 7 8 9 10 "
     ]
    }
   ],
   "source": [
    "for i in range(1,11,1): # (초기값, 목표값+1, 증가값)\n",
    "    print(i, end=\" \")"
   ]
  },
  {
   "cell_type": "code",
   "execution_count": 13,
   "id": "1c30bbfd-6e84-4aee-9075-0d54a6ba2109",
   "metadata": {},
   "outputs": [
    {
     "name": "stdout",
     "output_type": "stream",
     "text": [
      "a b c d "
     ]
    }
   ],
   "source": [
    "text_list = ['a','b','c','d']\n",
    "\n",
    "for txt in text_list:\n",
    "    print(txt, end=\" \")"
   ]
  },
  {
   "cell_type": "markdown",
   "id": "09161cd6-e931-4b42-9ca1-fca11e56b75a",
   "metadata": {},
   "source": [
    "## 2-2 특정 단 구구단 출력"
   ]
  },
  {
   "cell_type": "code",
   "execution_count": 15,
   "id": "9690ae38-50a5-4004-97a1-b8cfd5a5b053",
   "metadata": {},
   "outputs": [
    {
     "name": "stdin",
     "output_type": "stream",
     "text": [
      "출력할 구구단의 단수를 입력하세요 :  5\n"
     ]
    },
    {
     "name": "stdout",
     "output_type": "stream",
     "text": [
      "5 x 1 = 5\n",
      "5 x 2 = 10\n",
      "5 x 3 = 15\n",
      "5 x 4 = 20\n",
      "5 x 5 = 25\n",
      "5 x 6 = 30\n",
      "5 x 7 = 35\n",
      "5 x 8 = 40\n",
      "5 x 9 = 45\n"
     ]
    }
   ],
   "source": [
    "#사용자로부터 구구단 단수를 입력받아 출력\n",
    "dan = int(input(\"출력할 구구단의 단수를 입력하세요 : \"))\n",
    "\n",
    "for i in range(1,10):\n",
    "    print(f'{dan} x {i} = {dan * i}')"
   ]
  },
  {
   "cell_type": "markdown",
   "id": "518036e3-046b-474b-bc8d-576ff9f3eee8",
   "metadata": {},
   "source": [
    "## 2.3 리스트 요소 출력"
   ]
  },
  {
   "cell_type": "code",
   "execution_count": 16,
   "id": "b0a253e3-0210-4889-94c2-da7f5ca6a539",
   "metadata": {},
   "outputs": [
    {
     "name": "stdout",
     "output_type": "stream",
     "text": [
      "오렌지\n",
      "사과\n",
      "바나나\n",
      "포도\n"
     ]
    }
   ],
   "source": [
    "#리스트에 저장된 과일 이름 출력\n",
    "fruits = {\"사과\", \"바나나\", \"포도\", \"오렌지\"}\n",
    "\n",
    "for fruits in fruits:\n",
    "    print(fruits)"
   ]
  },
  {
   "cell_type": "markdown",
   "id": "edae1113-c297-415e-85c4-2dc7f37b8ce9",
   "metadata": {},
   "source": [
    "## 2.4 for 문 사용해서 1~100 까지 합한 결과 출력"
   ]
  },
  {
   "cell_type": "code",
   "execution_count": 24,
   "id": "030f1ce4-e15b-4b39-9aaf-de9d71000079",
   "metadata": {},
   "outputs": [
    {
     "name": "stdout",
     "output_type": "stream",
     "text": [
      "합계 =  5050\n"
     ]
    }
   ],
   "source": [
    "total = 0\n",
    "\n",
    "for i in range(1,101): #증가값 1은 생략 가능\n",
    "    total += i\n",
    "\n",
    "print('합계 = ', total)"
   ]
  },
  {
   "cell_type": "markdown",
   "id": "f8e11f00-c686-4b22-a63d-c7b71c6d469e",
   "metadata": {},
   "source": [
    "## 2.5 while 문 사용해서 1~100까지 합한 결과 출력"
   ]
  },
  {
   "cell_type": "code",
   "execution_count": 28,
   "id": "bd6650a8-7cb9-46fd-97fc-b4568c1a3f06",
   "metadata": {},
   "outputs": [
    {
     "name": "stdout",
     "output_type": "stream",
     "text": [
      "합계 =  5050\n"
     ]
    }
   ],
   "source": [
    "total = 0\n",
    "cnt = 0\n",
    "while True:\n",
    "    if cnt > 99:\n",
    "        break\n",
    "        \n",
    "    cnt += 1\n",
    "    total += cnt\n",
    "\n",
    "print('합계 = ', total)"
   ]
  },
  {
   "cell_type": "code",
   "execution_count": 30,
   "id": "35c9cc02-0e51-4b20-a790-878f123a00dd",
   "metadata": {},
   "outputs": [
    {
     "name": "stdout",
     "output_type": "stream",
     "text": [
      "1부터 100까지의 합은 5050입니다.\n"
     ]
    }
   ],
   "source": [
    "total = 0\n",
    "cnt = 0\n",
    "while cnt < 100:      \n",
    "    cnt += 1\n",
    "    total += cnt\n",
    "\n",
    "print(f\"1부터 {cnt}까지의 합은 {total}입니다.\")"
   ]
  },
  {
   "cell_type": "markdown",
   "id": "6a2a309e-ec36-430a-a7f4-a4fae5734139",
   "metadata": {},
   "source": [
    "## 2.6 continue 사용 예제"
   ]
  },
  {
   "cell_type": "code",
   "execution_count": 36,
   "id": "a1856817-6ebd-4f9d-93da-604f324b98d8",
   "metadata": {},
   "outputs": [
    {
     "name": "stdout",
     "output_type": "stream",
     "text": [
      "2 4 6 8 10 "
     ]
    }
   ],
   "source": [
    "# 1 부터 10까지 출력하는데 짝수만 출력하기\n",
    "\n",
    "for i in range(1,11):\n",
    "    if i % 2 == 1:\n",
    "        continue\n",
    "    print(i, end = \" \")"
   ]
  },
  {
   "cell_type": "markdown",
   "id": "5a35acc4-d429-4c8f-b824-cdd7f98360a3",
   "metadata": {},
   "source": [
    "## 2.7 별 출력 프로그램"
   ]
  },
  {
   "cell_type": "code",
   "execution_count": 41,
   "id": "0102c607-3f18-4664-96a6-53d8cd500efd",
   "metadata": {},
   "outputs": [
    {
     "name": "stdout",
     "output_type": "stream",
     "text": [
      "**********\n"
     ]
    }
   ],
   "source": [
    "print('*' * 10)"
   ]
  },
  {
   "cell_type": "code",
   "execution_count": 42,
   "id": "3c12b9c7-f9c2-44fe-9457-7beb67f95752",
   "metadata": {},
   "outputs": [
    {
     "name": "stdin",
     "output_type": "stream",
     "text": [
      " 출력할 줄 수를 입력하세요 : 5\n"
     ]
    },
    {
     "name": "stdout",
     "output_type": "stream",
     "text": [
      "*\n",
      "**\n",
      "***\n",
      "****\n",
      "*****\n"
     ]
    }
   ],
   "source": [
    "# 사용자로 부터 숫자를 입력받아서 해당 숫자만큼 별을 출력하기\n",
    "\n",
    "n = int(input(' 출력할 줄 수를 입력하세요 :'))\n",
    "\n",
    "for i in range(1,n+1):\n",
    "    print('*' * i)"
   ]
  },
  {
   "cell_type": "markdown",
   "id": "c58e6b68-1415-4561-b978-0442f1aca834",
   "metadata": {},
   "source": [
    "## 2.8 숫자 피라미드 만들기"
   ]
  },
  {
   "cell_type": "code",
   "execution_count": 59,
   "id": "19864154-21f4-4422-ae56-eeb6dfe854a1",
   "metadata": {},
   "outputs": [
    {
     "name": "stdin",
     "output_type": "stream",
     "text": [
      " 피라미드의 높이를 입력하세요 :  5\n"
     ]
    },
    {
     "name": "stdout",
     "output_type": "stream",
     "text": [
      "     1 \n",
      "    1 2 \n",
      "   1 2 3 \n",
      "  1 2 3 4 \n",
      " 1 2 3 4 5 \n"
     ]
    }
   ],
   "source": [
    "n = int(input(' 피라미드의 높이를 입력하세요 : '))\n",
    "\n",
    "for i in range(1,n+1,1):\n",
    "    print(\" \" * (n-i), end = \" \")\n",
    "    for j in range(1,i+1,1):\n",
    "        print(j, end = \" \")\n",
    "    print()"
   ]
  },
  {
   "cell_type": "markdown",
   "id": "858d9318-4506-4e73-a8b3-fad85a21e891",
   "metadata": {},
   "source": [
    "## 2.9 구구단 옆으로 출력하기 (미완성)"
   ]
  },
  {
   "cell_type": "code",
   "execution_count": 3,
   "id": "9dffb32e-3664-4fa5-9387-deed3c76879b",
   "metadata": {},
   "outputs": [
    {
     "name": "stdout",
     "output_type": "stream",
     "text": [
      "\n",
      "   1단          2단           3단  \n",
      " 1 X 1 = 1   2 X 1 = 2   3 X 1 = 3\n",
      " 1 X 2 = 2   2 X 2 = 4   3 X 2 = 6\n",
      " 1 X 3 = 3   2 X 3 = 6   3 X 3 = 9\n",
      " 1 X 4 = 4   2 X 4 = 8   3 X 4 = 12\n",
      " 1 X 5 = 5   2 X 5 = 10   3 X 5 = 15\n",
      " 1 X 6 = 6   2 X 6 = 12   3 X 6 = 18\n",
      " 1 X 7 = 7   2 X 7 = 14   3 X 7 = 21\n",
      " 1 X 8 = 8   2 X 8 = 16   3 X 8 = 24\n",
      " 1 X 9 = 9   2 X 9 = 18   3 X 9 = 27\n",
      "\n",
      "   4단          5단           6단  \n",
      " 4 X 1 = 4   5 X 1 = 5   6 X 1 = 6\n",
      " 4 X 2 = 8   5 X 2 = 10   6 X 2 = 12\n",
      " 4 X 3 = 12   5 X 3 = 15   6 X 3 = 18\n",
      " 4 X 4 = 16   5 X 4 = 20   6 X 4 = 24\n",
      " 4 X 5 = 20   5 X 5 = 25   6 X 5 = 30\n",
      " 4 X 6 = 24   5 X 6 = 30   6 X 6 = 36\n",
      " 4 X 7 = 28   5 X 7 = 35   6 X 7 = 42\n",
      " 4 X 8 = 32   5 X 8 = 40   6 X 8 = 48\n",
      " 4 X 9 = 36   5 X 9 = 45   6 X 9 = 54\n",
      "\n",
      "   7단          8단           9단  \n",
      " 7 X 1 = 7   8 X 1 = 8   9 X 1 = 9\n",
      " 7 X 2 = 14   8 X 2 = 16   9 X 2 = 18\n",
      " 7 X 3 = 21   8 X 3 = 24   9 X 3 = 27\n",
      " 7 X 4 = 28   8 X 4 = 32   9 X 4 = 36\n",
      " 7 X 5 = 35   8 X 5 = 40   9 X 5 = 45\n",
      " 7 X 6 = 42   8 X 6 = 48   9 X 6 = 54\n",
      " 7 X 7 = 49   8 X 7 = 56   9 X 7 = 63\n",
      " 7 X 8 = 56   8 X 8 = 64   9 X 8 = 72\n",
      " 7 X 9 = 63   8 X 9 = 72   9 X 9 = 81\n"
     ]
    }
   ],
   "source": [
    "for i in range(1,10,3):\n",
    "    print(f'\\n   {i}단          {i+1}단           {i+2}단  ')\n",
    "    for j in range(1,10):\n",
    "        print(f' {i} X {j} = {i*j}   {i+1} X {j} = {(i+1)*j}   {i+2} X {j} = {(i+2)*j}')"
   ]
  },
  {
   "cell_type": "markdown",
   "id": "446b3c97-b395-456f-bc51-1e43a271fe6f",
   "metadata": {},
   "source": [
    "#  원 6개 그리기"
   ]
  },
  {
   "cell_type": "code",
   "execution_count": 4,
   "id": "8453605a-9b02-4c36-8030-538c7f965f60",
   "metadata": {},
   "outputs": [],
   "source": [
    "import turtle"
   ]
  },
  {
   "cell_type": "code",
   "execution_count": 1,
   "id": "ef3c7b10-17c6-47d6-b7db-7e677a113e77",
   "metadata": {},
   "outputs": [],
   "source": [
    "import turtle\n",
    "t = turtle.Turtle()\n",
    "\n",
    "for _ in range(6):\n",
    "    t.circle(100)\n",
    "    t.left(60)\n",
    "\n",
    "turtle.exitonclick()"
   ]
  },
  {
   "cell_type": "markdown",
   "id": "bb2c0aed-9764-4972-b604-96907f2159c3",
   "metadata": {},
   "source": [
    "# n 각형을 그리기\n",
    "- 사용자로부터 정수 n(3 이상) 을 입력받아서 한변의 길이가 100인 정 n각형을 그리는 프로그램을 작성하시오"
   ]
  },
  {
   "cell_type": "code",
   "execution_count": 1,
   "id": "7eec392d-4f74-4939-ae52-26d5df30c01c",
   "metadata": {},
   "outputs": [
    {
     "name": "stdin",
     "output_type": "stream",
     "text": [
      "3 이상의 정수를 입력 : 6\n"
     ]
    }
   ],
   "source": [
    "import turtle\n",
    "import time\n",
    "t = turtle.Turtle()\n",
    "\n",
    "n = int(input('3 이상의 정수를 입력 :'))\n",
    "\n",
    "for _ in range(n):\n",
    "    time.sleep(1)\n",
    "    t.forward(100)\n",
    "    t.left(360/n)\n",
    "    \n",
    "turtle.exitonclick\n",
    "\n",
    "del t\n",
    "try:\n",
    "    turtle.bye()\n",
    "except:\n",
    "    pass"
   ]
  },
  {
   "cell_type": "code",
   "execution_count": 6,
   "id": "f4c424eb-0056-4361-bb41-aa714ec2fba0",
   "metadata": {},
   "outputs": [],
   "source": [
    "import turtle\n",
    "import time\n",
    "t = turtle.Turtle()\n",
    "\n",
    "for _ in range(5):\n",
    "    time.sleep(1)\n",
    "    t.forward(200)\n",
    "    t.left((360/5)*2)\n",
    "\n",
    "t.right(72)\n",
    "t.circle(100)\n",
    "\n",
    "turtle.exitonclick()\n",
    "del t\n",
    "try:\n",
    "    turtle.bye()\n",
    "except:\n",
    "    pass"
   ]
  },
  {
   "cell_type": "code",
   "execution_count": null,
   "id": "8b26f031-b2aa-4b5c-af0c-e2d17dd4e664",
   "metadata": {},
   "outputs": [],
   "source": []
  }
 ],
 "metadata": {
  "kernelspec": {
   "display_name": "Python 3 (ipykernel)",
   "language": "python",
   "name": "python3"
  },
  "language_info": {
   "codemirror_mode": {
    "name": "ipython",
    "version": 3
   },
   "file_extension": ".py",
   "mimetype": "text/x-python",
   "name": "python",
   "nbconvert_exporter": "python",
   "pygments_lexer": "ipython3",
   "version": "3.12.8"
  }
 },
 "nbformat": 4,
 "nbformat_minor": 5
}
