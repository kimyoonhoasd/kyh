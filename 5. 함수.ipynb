{
 "cells": [
  {
   "cell_type": "code",
   "execution_count": 12,
   "id": "e548776d-cfe6-4bad-b0bf-19c4d73b4644",
   "metadata": {},
   "outputs": [],
   "source": [
    "# 함수는 -     def 함수명 ( 함수 안에서 사용 할 변수들 ):\n",
    "\n",
    "def add(a,b):\n",
    "    return a+b\n",
    "\n",
    "def sub(a,b):\n",
    "    return a-b\n",
    "\n",
    "def mul(a,b):\n",
    "    return a*b\n",
    "\n",
    "def div(a,b):\n",
    "    if b == 0:\n",
    "        return \"에러\"\n",
    "    return a/b"
   ]
  },
  {
   "cell_type": "code",
   "execution_count": 5,
   "id": "7e205835-b26f-44e8-ba92-5536cb57adbd",
   "metadata": {},
   "outputs": [
    {
     "data": {
      "text/plain": [
       "3"
      ]
     },
     "execution_count": 5,
     "metadata": {},
     "output_type": "execute_result"
    }
   ],
   "source": [
    "c = 1\n",
    "b = 2\n",
    "\n",
    "add(c,b)"
   ]
  },
  {
   "cell_type": "code",
   "execution_count": 6,
   "id": "6711637e-ac2b-4b55-b3b5-b687b8985023",
   "metadata": {},
   "outputs": [
    {
     "data": {
      "text/plain": [
       "-1"
      ]
     },
     "execution_count": 6,
     "metadata": {},
     "output_type": "execute_result"
    }
   ],
   "source": [
    "sub(c,b)"
   ]
  },
  {
   "cell_type": "code",
   "execution_count": 7,
   "id": "cbda62bd-91a3-427f-a394-20de6956a8c6",
   "metadata": {},
   "outputs": [
    {
     "data": {
      "text/plain": [
       "2"
      ]
     },
     "execution_count": 7,
     "metadata": {},
     "output_type": "execute_result"
    }
   ],
   "source": [
    "mul(c,b)"
   ]
  },
  {
   "cell_type": "code",
   "execution_count": 13,
   "id": "99936535-8765-4b95-8ba3-a93e372714d9",
   "metadata": {},
   "outputs": [
    {
     "data": {
      "text/plain": [
       "'에러'"
      ]
     },
     "execution_count": 13,
     "metadata": {},
     "output_type": "execute_result"
    }
   ],
   "source": [
    "div(c,0)"
   ]
  },
  {
   "cell_type": "code",
   "execution_count": 14,
   "id": "a2284d0e-8220-452f-b35f-4f5055d07d29",
   "metadata": {},
   "outputs": [],
   "source": [
    "def user_avg(a,b,c):\n",
    "    avg = (a+b+c) / 3\n",
    "    return avg"
   ]
  },
  {
   "cell_type": "code",
   "execution_count": 18,
   "id": "c3dd3010-8eb9-4dfd-bf30-1cd7be1d6a15",
   "metadata": {},
   "outputs": [
    {
     "name": "stdout",
     "output_type": "stream",
     "text": [
      "2.0\n"
     ]
    }
   ],
   "source": [
    "result = user_avg(1,2,3)\n",
    "print(result)"
   ]
  },
  {
   "cell_type": "code",
   "execution_count": 19,
   "id": "d17f5cf6-9548-463f-9a86-3cf21cddd2d3",
   "metadata": {},
   "outputs": [],
   "source": [
    "def user_avg(a,b,c):\n",
    "    avg = (a+b+c) / d\n",
    "    return avg"
   ]
  },
  {
   "cell_type": "code",
   "execution_count": 20,
   "id": "8a908e45-fc9b-4101-a1a3-5436c40de1b5",
   "metadata": {},
   "outputs": [
    {
     "data": {
      "text/plain": [
       "0.6"
      ]
     },
     "execution_count": 20,
     "metadata": {},
     "output_type": "execute_result"
    }
   ],
   "source": [
    "d=10\n",
    "user_avg(1,2,3)"
   ]
  },
  {
   "cell_type": "code",
   "execution_count": 25,
   "id": "a3d16645-d435-4434-8174-f0bcedce7267",
   "metadata": {},
   "outputs": [],
   "source": [
    "def user_avg(a, b, c):\n",
    "    global avg2    # global 은 지역변수를 전역변수로 바꿔준다\n",
    "    avg2 =(a+b+c)/d"
   ]
  },
  {
   "cell_type": "markdown",
   "id": "0e01399f-f97f-467b-a5a7-27a309cf7cf7",
   "metadata": {},
   "source": [
    "# 변수값의 교환(swap)"
   ]
  },
  {
   "cell_type": "code",
   "execution_count": 30,
   "id": "89fe36fb-386c-4817-a1d7-b5f9af047e3d",
   "metadata": {},
   "outputs": [
    {
     "name": "stdout",
     "output_type": "stream",
     "text": [
      "Swap 전 값 :  10 20\n",
      "Swap 후 값 :  20 10\n"
     ]
    }
   ],
   "source": [
    "na = 10\n",
    "nb = 20\n",
    "temp = 0\n",
    "\n",
    "print('Swap 전 값 : ',na,nb)\n",
    "temp = na\n",
    "na = nb\n",
    "nb = temp\n",
    "\n",
    "print('Swap 후 값 : ',na,nb)"
   ]
  },
  {
   "cell_type": "code",
   "execution_count": 33,
   "id": "ce8297dd-d77f-4db2-a17d-21aec85da02b",
   "metadata": {},
   "outputs": [
    {
     "name": "stdout",
     "output_type": "stream",
     "text": [
      "swap전 na 값 :  10 swap전 nb 값 :  20\n",
      "swap후 na 값 :  20 swap후 nb 값 :  10\n"
     ]
    }
   ],
   "source": [
    "def swapa(pa,pb):\n",
    "    temp = pa\n",
    "    pa = pb\n",
    "    pb = temp\n",
    "    return pa,pb\n",
    "\n",
    "na = 10\n",
    "nb = 20\n",
    "\n",
    "print('swap전 na 값 : ',na, 'swap전 nb 값 : ', nb)\n",
    "na,nb = swapa(na,nb)\n",
    "print('swap후 na 값 : ',na, 'swap후 nb 값 : ', nb)"
   ]
  },
  {
   "cell_type": "code",
   "execution_count": 49,
   "id": "eec641fa-279e-4441-9217-a510a476502f",
   "metadata": {},
   "outputs": [],
   "source": [
    "def persona(width,height):\n",
    "    print(' 함수 디폴트 값 없음, width = ', width, ' height = ',height)\n",
    "          \n",
    "def personb(width=60, height=180):\n",
    "    print(' 함수 디폴트 값 없음, width =',width, ' height = ', height)"
   ]
  },
  {
   "cell_type": "code",
   "execution_count": 40,
   "id": "c131c72a-ed9d-46d5-acec-16c41498a1ba",
   "metadata": {},
   "outputs": [
    {
     "name": "stdout",
     "output_type": "stream",
     "text": [
      "[0]\n"
     ]
    }
   ],
   "source": [
    "def fget(nums=[0]):\n",
    "    return nums\n",
    "\n",
    "result1 = fget()\n",
    "print(result1)"
   ]
  },
  {
   "cell_type": "code",
   "execution_count": 41,
   "id": "e2db4fe5-0350-4f7a-b5b1-c1f251cf1aac",
   "metadata": {},
   "outputs": [
    {
     "name": "stdout",
     "output_type": "stream",
     "text": [
      "[1, 2, 3, 4, 5]\n"
     ]
    }
   ],
   "source": [
    "result2 = fget([1,2,3,4,5])\n",
    "print(result2)"
   ]
  },
  {
   "cell_type": "code",
   "execution_count": 44,
   "id": "36d96899-abcf-4a29-81da-17b82b547f69",
   "metadata": {},
   "outputs": [],
   "source": [
    "def fgets(nums=[0]):\n",
    "    for n in nums:\n",
    "        print(n)"
   ]
  },
  {
   "cell_type": "code",
   "execution_count": 46,
   "id": "c60237fc-8993-43a3-b211-93e7f970f508",
   "metadata": {},
   "outputs": [
    {
     "name": "stdout",
     "output_type": "stream",
     "text": [
      "0\n"
     ]
    }
   ],
   "source": [
    "fgets()"
   ]
  },
  {
   "cell_type": "code",
   "execution_count": 47,
   "id": "48550980-aa4e-4152-a442-005a1f992c31",
   "metadata": {},
   "outputs": [
    {
     "name": "stdout",
     "output_type": "stream",
     "text": [
      "1\n",
      "2\n",
      "3\n",
      "4\n",
      "5\n"
     ]
    }
   ],
   "source": [
    "fgets([1,2,3,4,5])"
   ]
  },
  {
   "cell_type": "code",
   "execution_count": null,
   "id": "7f0b9c05-c55b-4254-a070-4368c08502f9",
   "metadata": {},
   "outputs": [],
   "source": []
  }
 ],
 "metadata": {
  "kernelspec": {
   "display_name": "Python 3 (ipykernel)",
   "language": "python",
   "name": "python3"
  },
  "language_info": {
   "codemirror_mode": {
    "name": "ipython",
    "version": 3
   },
   "file_extension": ".py",
   "mimetype": "text/x-python",
   "name": "python",
   "nbconvert_exporter": "python",
   "pygments_lexer": "ipython3",
   "version": "3.12.8"
  }
 },
 "nbformat": 4,
 "nbformat_minor": 5
}
