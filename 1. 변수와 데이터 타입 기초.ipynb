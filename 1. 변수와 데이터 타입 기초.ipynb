{
 "cells": [
  {
   "cell_type": "markdown",
   "id": "bbbf1ffa-1568-4131-aad9-1446ffd20091",
   "metadata": {},
   "source": [
    "# 1. 변수와 데이터 타입 기초\n",
    "## 1.1. 변수 선언과 값 할당\n",
    "변수는 데이터를 저장하는 공간을 나타냅니다. Python에서 변수는 특정 값에 이름을 붙여서 사용합니다."
   ]
  },
  {
   "cell_type": "code",
   "execution_count": 2,
   "id": "97a1a852-193b-48d5-9f23-f4b83f7b5d5d",
   "metadata": {},
   "outputs": [],
   "source": [
    "# 변수 선언과 값 할당\n",
    "x = 10           # 정수형\n",
    "name = \"Alice\"    # 문자열\n",
    "height = 1.75     # 실수형\n",
    "is_student = True # 불리언"
   ]
  },
  {
   "cell_type": "markdown",
   "id": "1eccd723-2d09-478c-9e20-da7c4c30a35b",
   "metadata": {},
   "source": [
    "## 1.2. 데이터 타입 확인하기\n",
    "Python에서는 type() 함수를 사용하여 변수의 데이터 타입을 확인할 수 있습니다."
   ]
  },
  {
   "cell_type": "code",
   "execution_count": 3,
   "id": "2afebdd1-c100-4833-8854-e353ddb7582b",
   "metadata": {},
   "outputs": [
    {
     "name": "stdout",
     "output_type": "stream",
     "text": [
      "<class 'int'>\n",
      "<class 'str'>\n",
      "<class 'float'>\n",
      "<class 'bool'>\n"
     ]
    }
   ],
   "source": [
    "print(type(x))        # <class 'int'>\n",
    "print(type(name))     # <class 'str'>\n",
    "print(type(height))   # <class 'float'>\n",
    "print(type(is_student)) # <class 'bool'>"
   ]
  },
  {
   "cell_type": "code",
   "execution_count": 5,
   "id": "51a34529-1d84-48a1-b7e3-6c77b68c1c82",
   "metadata": {},
   "outputs": [
    {
     "name": "stdout",
     "output_type": "stream",
     "text": [
      "x =  10\n",
      "name =  Alice\n",
      "height =  1.75\n",
      "is_student =  True\n"
     ]
    }
   ],
   "source": [
    "print('x = ', x)      \n",
    "print('name = ', name)     \n",
    "print('height = ', height)   \n",
    "print('is_student = ', is_student)"
   ]
  },
  {
   "cell_type": "markdown",
   "id": "bf8f53a6-da13-4927-a2a6-801f6837d378",
   "metadata": {},
   "source": [
    "## 1.3. 데이터 타입 변환하기\n",
    "Python에서는 데이터를 다른 타입으로 변환할 수 있습니다. 예를 들어, 정수를 실수로 변환하거나 문자열을 숫자로 변환할 수 있습니다."
   ]
  },
  {
   "cell_type": "code",
   "execution_count": 11,
   "id": "a1dcb37f-7582-42c9-9956-c027d5f53a83",
   "metadata": {},
   "outputs": [
    {
     "name": "stdout",
     "output_type": "stream",
     "text": [
      "100\n",
      "1.75\n"
     ]
    }
   ],
   "source": [
    "# 데이터 타입 변환 예제\n",
    "num_str = \"100\"     # 문자열\n",
    "num_int = int(num_str)  # 문자열을 정수로 변환\n",
    "print(num_int)       # 100\n",
    "\n",
    "height_str = str(height)  # 실수를 문자열로 변환\n",
    "print(height_str)   # '1.75'\n"
   ]
  },
  {
   "cell_type": "markdown",
   "id": "28c87d21-88a8-4c98-9458-01b4e25e4b4f",
   "metadata": {},
   "source": [
    "# 2. 다양한 데이터 타입 실습\n",
    "## 2.1. 정수 (int)\n",
    "정수는 소수점이 없는 숫자를 나타냅니다."
   ]
  },
  {
   "cell_type": "code",
   "execution_count": 4,
   "id": "48e5664d-f710-4b3b-ab53-3131036e5a5e",
   "metadata": {},
   "outputs": [
    {
     "name": "stdout",
     "output_type": "stream",
     "text": [
      "합: 43\n"
     ]
    }
   ],
   "source": [
    "# 정수 예제\n",
    "num1 = 50\n",
    "num2 = -7\n",
    "sum_result = num1 + num2\n",
    "print(\"합:\", sum_result)  # 43"
   ]
  },
  {
   "cell_type": "markdown",
   "id": "fb52fdba-a45e-4654-81e7-30853bad3cff",
   "metadata": {},
   "source": [
    "## 2.2. 실수 (float)\n",
    "실수는 소수점이 있는 숫자를 나타냅니다."
   ]
  },
  {
   "cell_type": "code",
   "execution_count": 5,
   "id": "b7719f42-f79b-462e-9500-cd87bc33ede7",
   "metadata": {},
   "outputs": [
    {
     "name": "stdout",
     "output_type": "stream",
     "text": [
      "BMI: 23.020408163265305\n"
     ]
    }
   ],
   "source": [
    "# 실수 예제\n",
    "height = 1.75\n",
    "weight = 70.5\n",
    "bmi = weight / (height ** 2)  # BMI 계산\n",
    "print(\"BMI:\", bmi)  # 22.98 (대략적인 결과)"
   ]
  },
  {
   "cell_type": "markdown",
   "id": "d3358f44-9525-4ae6-8bbc-709fa410789b",
   "metadata": {},
   "source": [
    "## 2.3. 문자열 (str)\n",
    "문자열은 작은따옴표(') 또는 큰따옴표(\")로 감싸서 만들 수 있습니다."
   ]
  },
  {
   "cell_type": "code",
   "execution_count": 6,
   "id": "5edf5c7b-4fcf-4213-9120-3c7544059bc3",
   "metadata": {},
   "outputs": [
    {
     "name": "stdout",
     "output_type": "stream",
     "text": [
      "Hello, World!\n",
      "Hello Alice!\n"
     ]
    }
   ],
   "source": [
    "# 문자열 예제\n",
    "greeting = \"Hello, World!\"\n",
    "print(greeting)  # Hello, World!\n",
    "# 문자열 연결 (concatenation)\n",
    "full_greeting = \"Hello\" + \" \" + \"Alice!\"\n",
    "print(full_greeting)  # Hello Alice!"
   ]
  },
  {
   "cell_type": "markdown",
   "id": "52be9b1d-e645-4fbc-a90c-08d29372f3bf",
   "metadata": {},
   "source": [
    "## 2.4. 불리언 (bool)\n",
    "불리언은 True 또는 False 값만 가질 수 있는 데이터 타입입니다."
   ]
  },
  {
   "cell_type": "code",
   "execution_count": 7,
   "id": "c5a29e65-ba50-43ff-9d84-47539c7d42f7",
   "metadata": {},
   "outputs": [
    {
     "name": "stdout",
     "output_type": "stream",
     "text": [
      "비가 오나요? True\n",
      "맑은 날인가요? False\n"
     ]
    }
   ],
   "source": [
    "# 불리언 예제\n",
    "is_raining = True\n",
    "is_sunny = False\n",
    "print(\"비가 오나요?\", is_raining)  # True\n",
    "print(\"맑은 날인가요?\", is_sunny)  # False"
   ]
  },
  {
   "cell_type": "code",
   "execution_count": 8,
   "id": "f7e39426-7175-4c71-b8d1-79130e096479",
   "metadata": {},
   "outputs": [
    {
     "name": "stdout",
     "output_type": "stream",
     "text": [
      "False\n"
     ]
    }
   ],
   "source": [
    "b_txt = False\n",
    "print(b_txt)"
   ]
  },
  {
   "cell_type": "code",
   "execution_count": 9,
   "id": "427dbb72-50ca-4760-ad19-99969dc0d721",
   "metadata": {},
   "outputs": [
    {
     "name": "stdout",
     "output_type": "stream",
     "text": [
      "참\n"
     ]
    }
   ],
   "source": [
    "if 0 == False:\n",
    "    print('참')\n",
    "else:\n",
    "    print('거짓')"
   ]
  },
  {
   "cell_type": "markdown",
   "id": "4a69a58b-f80c-44bb-a696-b9d22e8c6e69",
   "metadata": {},
   "source": [
    "# 3. 데이터 타입 연산\n",
    "## 3.1. 정수와 실수 연산\n",
    "정수와 실수는 서로 연산이 가능하며, 실수 결과를 반환합니다."
   ]
  },
  {
   "cell_type": "code",
   "execution_count": 10,
   "id": "43999563-a801-4634-847d-12add76fea61",
   "metadata": {},
   "outputs": [
    {
     "name": "stdout",
     "output_type": "stream",
     "text": [
      "덧셈 결과: 13\n",
      "나눗셈 결과: 3.3333333333333335\n",
      "나머지: 1\n"
     ]
    }
   ],
   "source": [
    "# 정수와 실수 연산\n",
    "num1 = 10\n",
    "num2 = 3\n",
    "# 덧셈\n",
    "sum_result = num1 + num2  # 10 + 3 = 13\n",
    "print(\"덧셈 결과:\", sum_result)\n",
    "# 나눗셈 (결과는 실수형)\n",
    "division_result = num1 / num2  # 10 / 3 = 3.333...\n",
    "print(\"나눗셈 결과:\", division_result)\n",
    "# 나머지 구하기 (정수형)\n",
    "mod_result = num1 % num2  # 10 % 3 = 1\n",
    "print(\"나머지:\", mod_result)"
   ]
  },
  {
   "cell_type": "markdown",
   "id": "93519e13-8f52-44be-a955-1a73e2909033",
   "metadata": {},
   "source": [
    "## 문제 1: 변수 선언과 연산¶\n",
    "정수 변수 a = 15, b = 4를 선언하고, 두 변수의 합, 차, 곱, 나눗셈 결과를 각각 출력하는 프로그램을 작성하세요."
   ]
  },
  {
   "cell_type": "code",
   "execution_count": 14,
   "id": "4075008c-4ef6-4843-98b7-222e5113a29f",
   "metadata": {},
   "outputs": [
    {
     "name": "stdout",
     "output_type": "stream",
     "text": [
      " a + b =  19\n",
      " a - b =  11\n",
      " a * b =  60\n",
      " a / b =  3.75\n"
     ]
    }
   ],
   "source": [
    "a = 15\n",
    "b = 4\n",
    "print(\" a + b = \", a+b)\n",
    "print(\" a - b = \", a-b)\n",
    "print(\" a * b = \", a*b)\n",
    "print(\" a / b = \", a/b)"
   ]
  },
  {
   "cell_type": "markdown",
   "id": "c3155516-4948-4578-a27e-86d4284eea1d",
   "metadata": {},
   "source": [
    "## 문제 2: 문자열 다루기\n",
    "사용자의 이름을 입력받고, 그 이름을 \"Hello, [이름]!\" 형식으로 출력하는 프로그램을 작성하세요."
   ]
  },
  {
   "cell_type": "code",
   "execution_count": 28,
   "id": "e09aa6c2-455d-46e1-ae31-6ac4489fdfb3",
   "metadata": {},
   "outputs": [
    {
     "name": "stdout",
     "output_type": "stream",
     "text": [
      "Hello,  윤호!\n"
     ]
    }
   ],
   "source": [
    "name = \"윤호\"\n",
    "print(\"Hello, \",name + \"!\")"
   ]
  },
  {
   "cell_type": "markdown",
   "id": "7f3e71ea-6363-4489-81e5-9e955ccc3a49",
   "metadata": {},
   "source": [
    "## 문제 3: BMI 계산기\n",
    "키와 몸무게를 입력받아 BMI(체질량지수)를 계산하는 프로그램을 작성하세요.\n",
    "BMI 계산 공식: BMI = 체중(kg) / (신장(m) ** 2)"
   ]
  },
  {
   "cell_type": "code",
   "execution_count": 30,
   "id": "29917c2e-dcf6-4d30-a7ff-51e0163f9187",
   "metadata": {},
   "outputs": [
    {
     "name": "stdout",
     "output_type": "stream",
     "text": [
      " BMI :  23.020408163265305\n"
     ]
    }
   ],
   "source": [
    "height = 1.75\n",
    "weight = 70.5\n",
    "\n",
    "bmi = weight / ( height ** 2 )\n",
    "print(\" BMI : \" , bmi )"
   ]
  },
  {
   "cell_type": "code",
   "execution_count": null,
   "id": "ee9fc268-410c-4451-bdd7-1a3531c5649f",
   "metadata": {},
   "outputs": [],
   "source": []
  }
 ],
 "metadata": {
  "kernelspec": {
   "display_name": "Python 3 (ipykernel)",
   "language": "python",
   "name": "python3"
  },
  "language_info": {
   "codemirror_mode": {
    "name": "ipython",
    "version": 3
   },
   "file_extension": ".py",
   "mimetype": "text/x-python",
   "name": "python",
   "nbconvert_exporter": "python",
   "pygments_lexer": "ipython3",
   "version": "3.12.8"
  }
 },
 "nbformat": 4,
 "nbformat_minor": 5
}
